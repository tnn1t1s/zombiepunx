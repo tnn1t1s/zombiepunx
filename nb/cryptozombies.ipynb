{
 "cells": [
  {
   "cell_type": "code",
   "execution_count": 19,
   "id": "8b1e7373-d904-4460-951c-7214ded6c058",
   "metadata": {},
   "outputs": [],
   "source": [
    "from collections import defaultdict\n",
    "import math\n",
    "import matplotlib.image as mpimg\n",
    "import matplotlib.pyplot as plt\n",
    "import numpy as np \n",
    "import pickle\n",
    "import requests\n"
   ]
  },
  {
   "cell_type": "markdown",
   "id": "6234ae3d-d739-4546-a7d2-2972dcadbbb3",
   "metadata": {},
   "source": [
    "## Cryptozombies"
   ]
  },
  {
   "cell_type": "markdown",
   "id": "89158777-75b2-4745-8a97-0ccef6131da5",
   "metadata": {},
   "source": [
    "The CryptoPunks are a collection of 24x24, 8-bit-style pixel art images of misfits and eccentrics. There are exactly 10,000 of them, each with their own ostensible personality and unique combination of distinctive, randomly generated features."
   ]
  },
  {
   "cell_type": "markdown",
   "id": "1f64e278-473e-4ae4-9872-7617156c1c91",
   "metadata": {},
   "source": [
    "## Load a single punk and inspect data"
   ]
  },
  {
   "cell_type": "code",
   "execution_count": 2,
   "id": "c5bdf0bd-76c4-42ed-a113-968fb396f783",
   "metadata": {},
   "outputs": [],
   "source": [
    "data_dir = \"/home/david/artwork/zombiepunx/data\"\n",
    "punk_dir = f\"{data_dir}/punx/images/training\";\n"
   ]
  },
  {
   "cell_type": "code",
   "execution_count": 3,
   "id": "07de963e",
   "metadata": {},
   "outputs": [],
   "source": [
    "def get_punk(id):\n",
    "    return mpimg.imread(f\"\"\"{punk_dir}/punk{\"%04d\" % id}.png\"\"\")"
   ]
  },
  {
   "cell_type": "code",
   "execution_count": 4,
   "id": "55b4cf4f-fdbf-4c28-b23e-d0c793d5a8c2",
   "metadata": {},
   "outputs": [
    {
     "data": {
      "text/plain": [
       "<matplotlib.image.AxesImage at 0x7fc55d9d7520>"
      ]
     },
     "execution_count": 4,
     "metadata": {},
     "output_type": "execute_result"
    },
    {
     "data": {
      "image/png": "[encoded data removed]",
      "text/plain": [
       "<Figure size 432x288 with 1 Axes>"
      ]
     },
     "metadata": {
      "needs_background": "light"
     },
     "output_type": "display_data"
    }
   ],
   "source": [
    "# Read Images\n",
    "img = get_punk(0)\n",
    "plt.imshow(img)"
   ]
  },
  {
   "cell_type": "code",
   "execution_count": 5,
   "id": "723d14ea",
   "metadata": {},
   "outputs": [],
   "source": [
    "def colorkey_to_img(key):\n",
    "    \"\"\"take a color key of format\n",
    "       \"\"[0.37254903 0.11372549 0.03529412 1.        ]\"\n",
    "       and return a 24 * 24 size image containing only \n",
    "       that color pixels.\n",
    "    \"\"\"\n",
    "    (x,y) = (24,24)   \n",
    "    c = np.fromstring(key[1:-1], float, sep=' ')\n",
    "    return np.full((x, y, 4), c)"
   ]
  },
  {
   "cell_type": "markdown",
   "id": "cdc2865b-d5da-4f5a-9d27-d7a2d50daec9",
   "metadata": {},
   "source": [
    "## Prepare Training Data"
   ]
  },
  {
   "cell_type": "markdown",
   "id": "59ed2fc5-9b0f-4f6b-a110-7dcf92ce0c7c",
   "metadata": {},
   "source": [
    "The Punks are stored as 3D Numpy Arrays. The images can be compressed into a format that is more useful in machine learning by mapping pixel RGBY pixel values to an 8 bit integer that can be used in training and eventuallly converted back for display. "
   ]
  },
  {
   "cell_type": "markdown",
   "id": "98429931-6c6e-443f-a5a3-e79cb248a1f0",
   "metadata": {},
   "source": [
    "#### Step 1. Generate Pixel Map of unique values to 8 bit encoding. "
   ]
  },
  {
   "cell_type": "code",
   "execution_count": 6,
   "id": "216bc614-f585-485f-84e7-f621155a1428",
   "metadata": {},
   "outputs": [],
   "source": [
    "def flatten(img): \n",
    "  \"\"\"convert (x,y,z) array containing a pixel in z-dimension \n",
    "     to an (x,y) array with str values for each (i,j)\n",
    "     the intention is to make this easier to work with in ML\n",
    "     training.\n",
    "  \"\"\"\n",
    "  return np.array([[str(c) for c in row] \n",
    "                   for row in img])\n",
    "\n",
    "def unflatten(img):\n",
    "  \"\"\"return a flattend image to valid .png format for display\n",
    "  \"\"\"  \n",
    "  return np.array([[np.fromstring(c[1:-1], float, sep=' ') \n",
    "                    for c in row] for row in img])"
   ]
  },
  {
   "cell_type": "markdown",
   "id": "3dbdd1e6-f8a4-4d9d-a094-93caee10e70e",
   "metadata": {},
   "source": [
    "### test flatten -> unflatten"
   ]
  },
  {
   "cell_type": "code",
   "execution_count": 7,
   "id": "adb2acbf-73a9-4f6c-b591-9e86ef6dc0ff",
   "metadata": {},
   "outputs": [
    {
     "data": {
      "text/plain": [
       "<matplotlib.image.AxesImage at 0x7fc55d942ca0>"
      ]
     },
     "execution_count": 7,
     "metadata": {},
     "output_type": "execute_result"
    },
    {
     "data": {
      "image/png": "[encoded data removed]",
      "text/plain": [
       "<Figure size 432x288 with 1 Axes>"
      ]
     },
     "metadata": {
      "needs_background": "light"
     },
     "output_type": "display_data"
    }
   ],
   "source": [
    "x = flatten(img)\n",
    "y = unflatten(x)\n",
    "plt.imshow(y)"
   ]
  },
  {
   "cell_type": "markdown",
   "id": "90f8b4fa-3b8f-4c39-b18e-8982a21755d0",
   "metadata": {},
   "source": [
    "### Step 2. Convert punk to 8 bit representation"
   ]
  },
  {
   "cell_type": "markdown",
   "id": "7409f13c-5739-4fdf-b55a-b4490cda09fb",
   "metadata": {},
   "source": [
    "#### 2.1 Find all unique values and built a translation map"
   ]
  },
  {
   "cell_type": "code",
   "execution_count": 9,
   "id": "f87400bb-9055-4c08-8915-b7998c8c5bb0",
   "metadata": {},
   "outputs": [
    {
     "data": {
      "text/plain": [
       "array(['[0. 0. 0. 0.]', '[0. 0. 0. 1.]',\n",
       "       '[0.3137255 0.4862745 0.2       1.       ]',\n",
       "       '[0.3647059  0.54509807 0.2627451  1.        ]',\n",
       "       '[0.37254903 0.11372549 0.03529412 1.        ]',\n",
       "       '[0.68235296 0.54509807 0.38039216 1.        ]',\n",
       "       '[1.        0.9647059 0.5568628 1.       ]'], dtype='<U45')"
      ]
     },
     "execution_count": 9,
     "metadata": {},
     "output_type": "execute_result"
    }
   ],
   "source": [
    "np.unique(x)"
   ]
  },
  {
   "cell_type": "code",
   "execution_count": 10,
   "id": "92b9c951-c528-4acf-b8db-500b79cb0c4d",
   "metadata": {},
   "outputs": [
    {
     "data": {
      "text/plain": [
       "<matplotlib.image.AxesImage at 0x7fca9a2dd7f0>"
      ]
     },
     "execution_count": 10,
     "metadata": {},
     "output_type": "execute_result"
    },
    {
     "data": {
      "image/png": "[encoded data removed]",
      "text/plain": [
       "<Figure size 432x288 with 1 Axes>"
      ]
     },
     "metadata": {
      "needs_background": "light"
     },
     "output_type": "display_data"
    }
   ],
   "source": [
    "p_9999 = get_punk(9999)\n",
    "plt.imshow(p_9999)"
   ]
  },
  {
   "cell_type": "markdown",
   "id": "6e349914",
   "metadata": {},
   "source": [
    "### Generate Map"
   ]
  },
  {
   "cell_type": "markdown",
   "id": "2e7b885d",
   "metadata": {},
   "source": [
    "Convert each string representation of the pixel to a unique 8 bit integer value. Naively, build the map(string->int8) and then run through all values in a conversion pass."
   ]
  },
  {
   "cell_type": "code",
   "execution_count": 11,
   "id": "75c96078-3e99-45df-a2be-0dc79136c3e4",
   "metadata": {},
   "outputs": [],
   "source": [
    "# load _colors from pickled file on disk\n",
    "with open(f\"{data_dir}/_colors_count.pickle\", 'rb') as filehandler: \n",
    "    _colors = pickle.load(filehandler)"
   ]
  },
  {
   "cell_type": "code",
   "execution_count": null,
   "id": "d7695e65",
   "metadata": {},
   "outputs": [],
   "source": [
    "# this is expensive - do not run by default, load from pickle file\n",
    "\n",
    "n=10000\n",
    "_colors=defaultdict(list)\n",
    "for i in range(0,n):\n",
    "  flatPunk = flatten(get_punk(i))\n",
    "  colors = np.unique(flatPunk)\n",
    "  for c in colors:\n",
    "    _colors[c].append(i)\n",
    "    \n",
    "with open(f\"{data_dir}/_colors_count.pickle\", 'wb') as filehandler:\n",
    "    pickle.dump(_colors, filehandler)\n",
    "#type(_colors) == defaultdict"
   ]
  },
  {
   "cell_type": "code",
   "execution_count": null,
   "id": "37e11ad1-77d2-4613-aa0c-b3456f9c6131",
   "metadata": {},
   "outputs": [],
   "source": [
    "_colors"
   ]
  },
  {
   "cell_type": "code",
   "execution_count": 41,
   "id": "4f66ff20-c3e7-4887-a0fe-79e5d899e492",
   "metadata": {},
   "outputs": [
    {
     "data": {
      "text/plain": [
       "[2, 3]"
      ]
     },
     "execution_count": 41,
     "metadata": {},
     "output_type": "execute_result"
    }
   ],
   "source": [
    "_colors['[0. 0. 0. 1.]'] = [2]\n",
    "_colors['[0. 0. 0. 1.]'].append(3)\n",
    "_colors['[0. 0. 0. 1.]']"
   ]
  },
  {
   "cell_type": "markdown",
   "id": "a09f40f9",
   "metadata": {},
   "source": [
    "store this to disk for use later. expensive to compute"
   ]
  },
  {
   "cell_type": "markdown",
   "id": "ff3f9345",
   "metadata": {},
   "source": [
    "peek at _colors. true to from, the cryptopunks are composed of 222 unique colors; these will fit in an an 8 bit int for training."
   ]
  },
  {
   "cell_type": "code",
   "execution_count": 30,
   "id": "57a2a131",
   "metadata": {},
   "outputs": [
    {
     "data": {
      "text/plain": [
       "{'[0. 0. 0. 0.]': [9999],\n",
       " '[0. 0. 0. 1.]': [9999],\n",
       " '[0.3137255 0.4862745 0.2       1.       ]': [9958],\n",
       " '[0.3647059  0.54509807 0.2627451  1.        ]': [9958],\n",
       " '[0.37254903 0.11372549 0.03529412 1.        ]': [9974],\n",
       " '[0.68235296 0.54509807 0.38039216 1.        ]': [9998],\n",
       " '[1.        0.9647059 0.5568628 1.       ]': [9994],\n",
       " '[0.3372549  0.14901961 0.         1.        ]': [9989],\n",
       " '[0.44313726 0.24705882 0.11372549 1.        ]': [9999],\n",
       " '[0.44705883 0.21568628 0.03529412 1.        ]': [9989],\n",
       " '[0.52156866 0.3372549  0.11764706 1.        ]': [9999],\n",
       " '[0.54509807 0.3254902  0.17254902 1.        ]': [9999],\n",
       " '[0.6509804  0.43137255 0.17254902 1.        ]': [9999],\n",
       " '[0.44313726 0.0627451  0.0627451  1.        ]': [9995],\n",
       " '[0.8235294 0.6156863 0.3764706 1.       ]': [9996],\n",
       " '[0.85882354 0.69411767 0.5019608  1.        ]': [9996],\n",
       " '[0.40784314 0.23529412 0.03137255 1.        ]': [9976],\n",
       " '[0.5019608  0.85882354 0.85490197 1.        ]': [9999],\n",
       " '[0.52156866 0.31764707 0.07843138 1.        ]': [9976],\n",
       " '[0.7254902 0.7254902 0.7254902 0.5019608]': [9976],\n",
       " '[0.4117647  0.04705882 0.27058825 1.        ]': [9972],\n",
       " '[0.54901963 0.05098039 0.35686275 1.        ]': [9972],\n",
       " '[0.6784314  0.12941177 0.3764706  1.        ]': [9972],\n",
       " '[1.         0.8509804  0.14901961 1.        ]': [9996],\n",
       " '[0.6392157  0.13725491 0.45882353 1.        ]': [9885],\n",
       " '[0.6901961  0.19607843 0.52156866 1.        ]': [9885],\n",
       " '[0.29803923 0.29803923 0.29803923 1.        ]': [9973],\n",
       " '[0.3882353 0.3882353 0.3882353 1.       ]': [9973],\n",
       " '[0.5254902  0.34509805 0.11764706 1.        ]': [9992],\n",
       " '[0.654902  0.4862745 0.2784314 1.       ]': [9992],\n",
       " '[0.15686275 0.34509805 0.69411767 1.        ]': [9964],\n",
       " '[0.16078432 0.24313726 0.39215687 1.        ]': [9964],\n",
       " '[0.17254902 0.31764707 0.58431375 1.        ]': [9964],\n",
       " '[0.60784316 0.43529412 0.3019608  1.        ]': [9957],\n",
       " '[1. 1. 1. 1.]': [9998],\n",
       " '[0.4117647  0.18431373 0.03137255 1.        ]': [9962],\n",
       " '[0.14901961 0.19215687 0.2901961  1.        ]': [9906],\n",
       " '[0.8392157 0.        0.        1.       ]': [9921],\n",
       " '[1.         0.84705883 0.         1.        ]': [9906],\n",
       " '[0.23529412 0.3372549  0.34901962 1.        ]': [9907],\n",
       " '[0.28235295 0.3647059  0.3647059  1.        ]': [9907],\n",
       " '[0.2901961  0.07058824 0.00392157 1.        ]': [9999],\n",
       " '[0.15686275 0.69411767 0.2627451  1.        ]': [9998],\n",
       " '[0.16078432 0.39215687 0.20392157 1.        ]': [9998],\n",
       " '[0.17254902 0.58431375 0.25490198 1.        ]': [9998],\n",
       " '[0.8039216  0.         0.79607844 1.        ]': [9983],\n",
       " '[0.1764706  0.41960785 0.38431373 1.        ]': [9989],\n",
       " '[0.76862746 0.12941177 0.0627451  1.        ]': [9989],\n",
       " '[0.91764706 0.8509804  0.8509804  1.        ]': [9995],\n",
       " '[0.90588236 0.79607844 0.6627451  1.        ]': [9985],\n",
       " '[0.7137255  0.62352943 0.50980395 1.        ]': [9987],\n",
       " '[0.84313726 0.84313726 0.84313726 1.        ]': [9915],\n",
       " '[0.07843138 0.17254902 0.4862745  1.        ]': [9992],\n",
       " '[0.08627451 0.21568628 0.6431373  1.        ]': [9992],\n",
       " '[0.10196079 0.2627451  0.78431374 1.        ]': [9992],\n",
       " '[0.34901962 0.39607844 0.4392157  1.        ]': [9990],\n",
       " '[0.5372549  0.47843137 0.4392157  1.        ]': [9930],\n",
       " '[0.59607846 0.53333336 0.5019608  1.        ]': [9930],\n",
       " '[0.6        0.5176471  0.45882353 1.        ]': [9930],\n",
       " '[0.8862745  0.14901961 0.14901961 1.        ]': [9996],\n",
       " '[0.36078432 0.22352941 0.05882353 1.        ]': [9983],\n",
       " '[0.78039217 0.45882353 0.07843138 1.        ]': [9983],\n",
       " '[0.7607843  0.5372549  0.27450982 1.        ]': [9904],\n",
       " '[0.6431373 0.5882353 0.5058824 1.       ]': [9957],\n",
       " '[0.7176471  0.67058825 0.59607846 1.        ]': [9957],\n",
       " '[0.73333335 0.7019608  0.6509804  1.        ]': [9957],\n",
       " '[0.5058824  0.09803922 0.7176471  1.        ]': [9993],\n",
       " '[0.69803923 0.38039216 0.8627451  1.        ]': [9993],\n",
       " '[0.5529412 0.5529412 0.5529412 1.       ]': [9982],\n",
       " '[0.7058824 0.7058824 0.7058824 1.       ]': [9982],\n",
       " '[0.16470589 0.16470589 0.16470589 1.        ]': [9972],\n",
       " '[0.7764706 0.7764706 0.7764706 1.       ]': [9996],\n",
       " '[0.8666667 0.8666667 0.8666667 0.5019608]': [9996],\n",
       " '[0.8862745  0.35686275 0.14901961 1.        ]': [9996],\n",
       " '[0.36862746 0.29803923 0.21568628 1.        ]': [9979],\n",
       " '[0.39215687 0.34509805 0.28627452 1.        ]': [9979],\n",
       " '[0.43529412 0.43529412 0.43529412 1.        ]': [9953],\n",
       " '[0.4627451  0.37254903 0.2627451  1.        ]': [9983],\n",
       " '[0.5764706  0.21568628 0.03529412 1.        ]': [9967],\n",
       " '[0.7921569  0.30588236 0.06666667 1.        ]': [9967],\n",
       " '[0.56078434 0.05882353 0.4117647  1.        ]': [9468],\n",
       " '[0.60784316 0.08627451 0.42745098 1.        ]': [9468],\n",
       " '[0.23921569 0.18431373 0.11764706 1.        ]': [9978],\n",
       " '[0.50980395 0.40784314 0.28627452 1.        ]': [9658],\n",
       " '[0.15686275 0.10588235 0.03529412 1.        ]': [9993],\n",
       " '[0.30980393 0.17254902 0.07843138 1.        ]': [9993],\n",
       " '[0.31764707 0.21176471 0.04705882 1.        ]': [9957],\n",
       " '[0.33333334 0.33333334 0.33333334 1.        ]': [9965],\n",
       " '[0.19215687 0.10588235 0.05098039 1.        ]': [9970],\n",
       " '[0.23529412 0.14117648 0.07450981 1.        ]': [9970],\n",
       " '[0.10196079 0.43137255 0.8352941  1.        ]': [9938],\n",
       " '[0.3137255  0.18431373 0.01960784 1.        ]': [9883],\n",
       " '[0.4745098  0.29411766 0.06666667 1.        ]': [9883],\n",
       " '[0.64705884 0.5529412  0.5529412  1.        ]': [9978],\n",
       " '[0.7882353  0.69803923 0.69803923 1.        ]': [9978],\n",
       " '[0.         0.33333334 0.5019608  1.        ]': [9892],\n",
       " '[0.13333334 0.5647059  0.         1.        ]': [9892],\n",
       " '[0.19607843 0.5529412  0.99215686 1.        ]': [9932],\n",
       " '[0.9411765 0.9411765 0.9411765 1.       ]': [9932],\n",
       " '[0.99215686 0.19607843 0.19607843 1.        ]': [9932],\n",
       " '[0.8784314  0.50980395 0.50980395 1.        ]': [9406],\n",
       " '[0.36078432 0.52156866 0.22352941 1.        ]': [9967],\n",
       " '[0.43137255 0.59607846 0.3019608  1.        ]': [9967],\n",
       " '[0.6        0.4862745  0.34901962 1.        ]': [9946],\n",
       " '[0.36862746 0.34117648 0.34117648 1.        ]': [9877],\n",
       " '[0.        0.2509804 1.        1.       ]': [9917],\n",
       " '[0.34901962 0.34901962 0.34901962 1.        ]': [9917],\n",
       " '[0.23529412 0.40784314 0.15294118 1.        ]': [9994],\n",
       " '[0.28235295 0.43529412 0.16862746 1.        ]': [9994],\n",
       " '[1.         0.5568628  0.74509805 1.        ]': [9959],\n",
       " '[0.10980392 0.10196079 0.         1.        ]': [9937],\n",
       " '[0.3254902  0.29803923 0.         1.        ]': [9937],\n",
       " '[0.6 0.6 0.6 1. ]': [9953],\n",
       " '[1.         0.16470589 0.         1.        ]': [9926],\n",
       " '[1.        0.7294118 0.        1.       ]': [9926],\n",
       " '[0.36862746 0.44705883 0.3254902  1.        ]': [9997],\n",
       " '[0.40784314 0.27450982 0.12156863 1.        ]': [9922],\n",
       " '[0.49019608 0.63529414 0.4117647  1.        ]': [9997],\n",
       " '[1. 0. 0. 1.]': [9997],\n",
       " '[0.20784314 0.20784314 0.20784314 1.        ]': [9997],\n",
       " '[0.31764707 0.31764707 0.31764707 1.        ]': [9997],\n",
       " '[0.7137255 0.6392157 0.5372549 1.       ]': [9896],\n",
       " '[0.8117647 0.7411765 0.6509804 1.       ]': [9896],\n",
       " '[0.83137256 0.78431374 0.72156864 1.        ]': [9896],\n",
       " '[1.         0.7882353  0.14901961 1.        ]': [9988],\n",
       " '[0.44313726 0.04705882 0.78039217 1.        ]': [9963],\n",
       " '[0.        0.3764706 0.7647059 1.       ]': [9991],\n",
       " '[0.23529412 0.7647059  0.         1.        ]': [9991],\n",
       " '[0.8392157  0.01568628 0.01568628 1.        ]': [9991],\n",
       " '[0.89411765 0.92156863 0.09019608 1.        ]': [9991],\n",
       " '[0.36078432 0.4509804  0.41960785 1.        ]': [9940],\n",
       " '[0.43137255 0.5254902  0.49803922 1.        ]': [9940],\n",
       " '[0.8745098 0.8745098 0.8745098 1.       ]': [9946],\n",
       " '[0.5686275 0.4627451 0.3372549 1.       ]': [9933],\n",
       " '[0.32156864 0.19607843 0.10196079 1.        ]': [9984],\n",
       " '[0.6392157 0.5921569 0.5921569 1.       ]': [9649],\n",
       " '[0.1764706  0.09803922 0.04705882 1.        ]': [9717],\n",
       " '[0.3137255  0.41568628 0.39607844 1.        ]': [9974],\n",
       " '[0.3647059  0.4745098  0.45882353 1.        ]': [9974],\n",
       " '[0.29411766 0.23529412 0.16470589 1.        ]': [9914],\n",
       " '[0.30980393 0.27058825 0.21960784 1.        ]': [9914],\n",
       " '[0.4627451  0.23137255 0.10196079 1.        ]': [9050],\n",
       " '[0.9019608  0.34117648 0.         1.        ]': [9864],\n",
       " '[0.6039216  0.5568628  0.54509807 1.        ]': [9869],\n",
       " '[0.34509805 0.2784314  0.2        1.        ]': [9913],\n",
       " '[0.6862745  0.21960784 0.6313726  1.        ]': [9995],\n",
       " '[0.7411765 0.2784314 0.6901961 1.       ]': [9995],\n",
       " '[0.39607844 0.36862746 0.36862746 1.        ]': [9977],\n",
       " '[0.43137255 0.43137255 0.43137255 1.        ]': [9977],\n",
       " '[0.36078432 0.5686275  0.37254903 1.        ]': [9869],\n",
       " '[0.41568628 0.627451   0.43137255 1.        ]': [9869],\n",
       " '[0.4745098  0.38039216 0.26666668 1.        ]': [9987],\n",
       " '[0.93333334 0.93333334 0.93333334 1.        ]': [9796],\n",
       " '[0.6862745  0.17254902 0.48235294 1.        ]': [9466],\n",
       " '[0.75686276 0.24705882 0.56078434 1.        ]': [9466],\n",
       " '[0.8627451  0.11372549 0.11372549 1.        ]': [9809],\n",
       " '[0.69411767 0.69411767 0.69411767 1.        ]': [9961],\n",
       " '[0.7882353 0.7882353 0.7882353 1.       ]': [9961],\n",
       " '[0.8156863  0.6117647  0.43137255 1.        ]': [9959],\n",
       " '[0.52156866 0.19607843 0.09019608 1.        ]': [9437],\n",
       " '[0.20784314 0.14117648 0.0627451  1.        ]': [9280],\n",
       " '[0.41568628 0.3372549  0.24705882 1.        ]': [8219],\n",
       " '[0.52156866 0.43529412 0.3372549  1.        ]': [9280],\n",
       " '[0.6627451  0.54901963 0.41960785 1.        ]': [8219],\n",
       " '[0.85490197 0.5568628  0.4        1.        ]': [9565],\n",
       " '[0.3647059 0.3647059 0.3647059 1.       ]': [7748],\n",
       " '[0.6431373  0.52156866 0.3764706  1.        ]': [9622],\n",
       " '[0.27450982 0.21960784 0.15294118 1.        ]': [9935],\n",
       " '[0.7137255  0.43529412 0.30588236 1.        ]': [9436],\n",
       " '[0.93333334 0.91764706 0.7137255  1.        ]': [9925],\n",
       " '[0.5137255  0.78039217 0.5647059  1.        ]': [9928],\n",
       " '[0.5254902  0.5137255  0.46666667 1.        ]': [9957],\n",
       " '[0.60784316 0.8784314  0.8784314  1.        ]': [7804],\n",
       " '[0.78431374 0.9843137  0.9843137  1.        ]': [7804],\n",
       " '[0.22352941 0.13725491 0.07058824 1.        ]': [9266],\n",
       " '[0.6666667  0.48235294 0.32941177 1.        ]': [9960],\n",
       " '[0.36078432 0.49803922 0.5686275  1.        ]': [9792],\n",
       " '[0.41568628 0.5568628  0.627451   1.        ]': [9792],\n",
       " '[0.33333334 0.18431373 0.08627451 1.        ]': [9594],\n",
       " '[0.9098039 0.9372549 0.7529412 1.       ]': [8887],\n",
       " '[0.5568628  0.64705884 0.62352943 1.        ]': [7756],\n",
       " '[0.62352943 0.7529412  0.67058825 1.        ]': [7756],\n",
       " '[0.9098039  0.39607844 0.4392157  1.        ]': [7756],\n",
       " '[0.7019608  0.5568628  0.49019608 1.        ]': [7622],\n",
       " '[0.7137255 0.7058824 0.7490196 1.       ]': [9990],\n",
       " '[0.7921569  0.7882353  0.83137256 1.        ]': [9990],\n",
       " '[0.8627451  0.8745098  0.91764706 1.        ]': [9990],\n",
       " '[0.25882354 0.3137255  0.22745098 1.        ]': [9804],\n",
       " '[0.34117648 0.44313726 0.28627452 1.        ]': [9804],\n",
       " '[0.6784314  0.49411765 0.34901962 1.        ]': [8511],\n",
       " '[0.60784316 0.7372549  0.53333336 1.        ]': [9838],\n",
       " '[0.35686275 0.28627452 0.2        1.        ]': [1398],\n",
       " '[0.9098039  0.95686275 1.         1.        ]': [8767],\n",
       " '[0.21176471 0.27450982 0.1764706  1.        ]': [9955],\n",
       " '[0.2627451  0.31764707 0.23137255 1.        ]': [9955],\n",
       " '[0.85490197 0.8039216  0.73333335 1.        ]': [9329],\n",
       " '[0.8627451 0.8627451 0.8627451 1.       ]': [6893],\n",
       " '[0.39607844 0.32156864 0.23529412 1.        ]': [9850],\n",
       " '[0.49803922 0.3019608  0.21176471 1.        ]': [6602],\n",
       " '[0.50980395 0.3137255  0.19607843 1.        ]': [9791],\n",
       " '[0.21960784 0.1764706  0.12156863 1.        ]': [2804],\n",
       " '[0.32156864 0.25882354 0.18431373 1.        ]': [8432],\n",
       " '[0.45882353 0.7411765  0.7411765  1.        ]': [7523],\n",
       " '[0.7294118  0.6745098  0.63529414 1.        ]': [3402],\n",
       " '[0.41960785 0.3882353  0.38039216 1.        ]': [3455],\n",
       " '[0.8627451  0.84705883 0.6431373  1.        ]': [9400],\n",
       " '[0.6862745 0.6392157 0.6392157 1.       ]': [7884],\n",
       " '[0.19607843 0.25490198 0.16470589 1.        ]': [8307],\n",
       " '[0.7921569  0.8392157  0.88235295 1.        ]': [9957],\n",
       " '[0.34901962 0.42745098 0.28235295 1.        ]': [9203],\n",
       " '[0.5803922  0.58431375 0.5764706  1.        ]': [5314],\n",
       " '[0.6431373 0.6392157 0.627451  1.       ]': [5314],\n",
       " '[0.72156864 0.7058824  0.6745098  1.        ]': [5314],\n",
       " '[0.44705883 0.3647059  0.2627451  1.        ]': [5453],\n",
       " '[0.9019608  0.68235296 0.68235296 1.        ]': [8000],\n",
       " '[0.14509805 0.07843138 0.03529412 1.        ]': [6266],\n",
       " '[0.56078434 0.50980395 0.32941177 1.        ]': [6704],\n",
       " '[0.3647059  0.13725491 0.0627451  1.        ]': [8571],\n",
       " '[0.23137255 0.12941177 0.05882353 1.        ]': [8186],\n",
       " '[0.8666667  0.74509805 0.7294118  1.        ]': [8750],\n",
       " '[0.2784314  0.22352941 0.16078432 1.        ]': [9268],\n",
       " '[0.6901961  0.6392157  0.60784316 1.        ]': [9957]}"
      ]
     },
     "execution_count": 30,
     "metadata": {},
     "output_type": "execute_result"
    }
   ],
   "source": [
    "sorted_tuples = sorted(_colors.items(), key=lambda item: len(item[1]))\n",
    "sorted_dict = {k: v for k, v in sorted_tuples}\n",
    "sorted_dict"
   ]
  },
  {
   "cell_type": "markdown",
   "id": "f2f40cf7",
   "metadata": {},
   "source": [
    "plt.bar(list(_colors.keys()), _colors.values(), color='g')\n",
    "plt.show()"
   ]
  },
  {
   "cell_type": "markdown",
   "id": "d6aa3da5",
   "metadata": {},
   "source": [
    "Many of the colors are only used once or twice. We'll keep these for now, but future work to improve the model by benefit from grouping similar tones.  "
   ]
  },
  {
   "cell_type": "markdown",
   "id": "871c03ef",
   "metadata": {},
   "source": [
    "### Explore the Color Punks Palette"
   ]
  },
  {
   "cell_type": "markdown",
   "id": "27d325c3",
   "metadata": {},
   "source": [
    "Generate a color pallete of pixels starting from least frequently used."
   ]
  },
  {
   "cell_type": "code",
   "execution_count": 138,
   "id": "2b38464b",
   "metadata": {},
   "outputs": [
    {
     "data": {
      "image/png": "[encoded data removed]",
      "text/plain": [
       "<Figure size 1080x1080 with 222 Axes>"
      ]
     },
     "metadata": {
      "needs_background": "light"
     },
     "output_type": "display_data"
    }
   ],
   "source": [
    "n=15  # n=15 will show the complete cryptopunks pallette.\n",
    "bottom=list(sorted_dict.keys())[0:(n*n)]\n",
    "bottom_imgs = {i:colorkey_to_img(i) for i in bottom}\n",
    "\n",
    "(x,y) = (n,n)\n",
    "# create figure\n",
    "fig = plt.figure(figsize=(x,y))\n",
    "\n",
    "i=1\n",
    "for k in bottom_imgs.keys():\n",
    "    fig.add_subplot(x, y, i)\n",
    "    plt.imshow(bottom_imgs[k])\n",
    "    plt.axis('off')\n",
    "    plt.title(i)\n",
    "    i=i+1"
   ]
  },
  {
   "cell_type": "markdown",
   "id": "f7d35cae",
   "metadata": {},
   "source": [
    "Whle there are some similar pixels, they aren't grouped as I had expected initally. At this time, reducing dimensionality through pixel consolidation is probably way too premature of an optimization."
   ]
  },
  {
   "cell_type": "code",
   "execution_count": null,
   "id": "cecc7878",
   "metadata": {},
   "outputs": [],
   "source": []
  }
 ],
 "metadata": {
  "kernelspec": {
   "display_name": "Python 3",
   "language": "python",
   "name": "python3"
  },
  "language_info": {
   "codemirror_mode": {
    "name": "ipython",
    "version": 3
   },
   "file_extension": ".py",
   "mimetype": "text/x-python",
   "name": "python",
   "nbconvert_exporter": "python",
   "pygments_lexer": "ipython3",
   "version": "3.9.4"
  }
 },
 "nbformat": 4,
 "nbformat_minor": 5
}

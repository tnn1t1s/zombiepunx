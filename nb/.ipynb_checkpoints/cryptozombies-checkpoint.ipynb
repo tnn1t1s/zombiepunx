{
 "cells": [
  {
   "cell_type": "code",
   "execution_count": 1,
   "id": "8b1e7373-d904-4460-951c-7214ded6c058",
   "metadata": {},
   "outputs": [],
   "source": [
    "import matplotlib.image as mpimg\n",
    "import matplotlib.pyplot as plt\n",
    "import numpy as np  \n",
    "import requests\n"
   ]
  },
  {
   "cell_type": "markdown",
   "id": "6234ae3d-d739-4546-a7d2-2972dcadbbb3",
   "metadata": {},
   "source": [
    "## Cryptozombies"
   ]
  },
  {
   "cell_type": "markdown",
   "id": "89158777-75b2-4745-8a97-0ccef6131da5",
   "metadata": {},
   "source": [
    "The CryptoPunks are a collection of 24x24, 8-bit-style pixel art images of misfits and eccentrics. There are exactly 10,000 of them, each with their own ostensible personality and unique combination of distinctive, randomly generated features."
   ]
  },
  {
   "cell_type": "markdown",
   "id": "1f64e278-473e-4ae4-9872-7617156c1c91",
   "metadata": {},
   "source": [
    "## Load a single punk and inspect data"
   ]
  },
  {
   "cell_type": "code",
   "execution_count": 2,
   "id": "c5bdf0bd-76c4-42ed-a113-968fb396f783",
   "metadata": {},
   "outputs": [],
   "source": [
    "punk_dir = \"./data/punx/images/training\";\n",
    "def get_punk(id):\n",
    "    return mpimg.imread(f\"\"\"{punk_dir}/punk{\"%04d\" % id}.png\"\"\")"
   ]
  },
  {
   "cell_type": "code",
   "execution_count": 3,
   "id": "55b4cf4f-fdbf-4c28-b23e-d0c793d5a8c2",
   "metadata": {},
   "outputs": [
    {
     "ename": "FileNotFoundError",
     "evalue": "[Errno 2] No such file or directory: './data/punx/images/training/punk0000.png'",
     "output_type": "error",
     "traceback": [
      "\u001b[0;31m---------------------------------------------------------------------------\u001b[0m",
      "\u001b[0;31mFileNotFoundError\u001b[0m                         Traceback (most recent call last)",
      "\u001b[0;32m<ipython-input-3-c97bb97069c0>\u001b[0m in \u001b[0;36m<module>\u001b[0;34m\u001b[0m\n\u001b[1;32m      1\u001b[0m \u001b[0;31m# Read Images\u001b[0m\u001b[0;34m\u001b[0m\u001b[0;34m\u001b[0m\u001b[0;34m\u001b[0m\u001b[0m\n\u001b[0;32m----> 2\u001b[0;31m \u001b[0mimg\u001b[0m \u001b[0;34m=\u001b[0m \u001b[0mget_punk\u001b[0m\u001b[0;34m(\u001b[0m\u001b[0;36m0\u001b[0m\u001b[0;34m)\u001b[0m\u001b[0;34m\u001b[0m\u001b[0;34m\u001b[0m\u001b[0m\n\u001b[0m\u001b[1;32m      3\u001b[0m \u001b[0mplt\u001b[0m\u001b[0;34m.\u001b[0m\u001b[0mimshow\u001b[0m\u001b[0;34m(\u001b[0m\u001b[0mimg\u001b[0m\u001b[0;34m)\u001b[0m\u001b[0;34m\u001b[0m\u001b[0;34m\u001b[0m\u001b[0m\n",
      "\u001b[0;32m<ipython-input-2-e2482f1fe689>\u001b[0m in \u001b[0;36mget_punk\u001b[0;34m(id)\u001b[0m\n\u001b[1;32m      1\u001b[0m \u001b[0mpunk_dir\u001b[0m \u001b[0;34m=\u001b[0m \u001b[0;34m\"./data/punx/images/training\"\u001b[0m\u001b[0;34m;\u001b[0m\u001b[0;34m\u001b[0m\u001b[0;34m\u001b[0m\u001b[0m\n\u001b[1;32m      2\u001b[0m \u001b[0;32mdef\u001b[0m \u001b[0mget_punk\u001b[0m\u001b[0;34m(\u001b[0m\u001b[0mid\u001b[0m\u001b[0;34m)\u001b[0m\u001b[0;34m:\u001b[0m\u001b[0;34m\u001b[0m\u001b[0;34m\u001b[0m\u001b[0m\n\u001b[0;32m----> 3\u001b[0;31m     \u001b[0;32mreturn\u001b[0m \u001b[0mmpimg\u001b[0m\u001b[0;34m.\u001b[0m\u001b[0mimread\u001b[0m\u001b[0;34m(\u001b[0m\u001b[0;34mf\"\"\"{punk_dir}/punk{\"%04d\" % id}.png\"\"\"\u001b[0m\u001b[0;34m)\u001b[0m\u001b[0;34m\u001b[0m\u001b[0;34m\u001b[0m\u001b[0m\n\u001b[0m",
      "\u001b[0;32m~/miniconda3/envs/zombiepunx/lib/python3.9/site-packages/matplotlib/image.py\u001b[0m in \u001b[0;36mimread\u001b[0;34m(fname, format)\u001b[0m\n\u001b[1;32m   1494\u001b[0m                     \u001b[0mresponse\u001b[0m \u001b[0;34m=\u001b[0m \u001b[0mio\u001b[0m\u001b[0;34m.\u001b[0m\u001b[0mBytesIO\u001b[0m\u001b[0;34m(\u001b[0m\u001b[0mresponse\u001b[0m\u001b[0;34m.\u001b[0m\u001b[0mread\u001b[0m\u001b[0;34m(\u001b[0m\u001b[0;34m)\u001b[0m\u001b[0;34m)\u001b[0m\u001b[0;34m\u001b[0m\u001b[0;34m\u001b[0m\u001b[0m\n\u001b[1;32m   1495\u001b[0m                 \u001b[0;32mreturn\u001b[0m \u001b[0mimread\u001b[0m\u001b[0;34m(\u001b[0m\u001b[0mresponse\u001b[0m\u001b[0;34m,\u001b[0m \u001b[0mformat\u001b[0m\u001b[0;34m=\u001b[0m\u001b[0mext\u001b[0m\u001b[0;34m)\u001b[0m\u001b[0;34m\u001b[0m\u001b[0;34m\u001b[0m\u001b[0m\n\u001b[0;32m-> 1496\u001b[0;31m     \u001b[0;32mwith\u001b[0m \u001b[0mimg_open\u001b[0m\u001b[0;34m(\u001b[0m\u001b[0mfname\u001b[0m\u001b[0;34m)\u001b[0m \u001b[0;32mas\u001b[0m \u001b[0mimage\u001b[0m\u001b[0;34m:\u001b[0m\u001b[0;34m\u001b[0m\u001b[0;34m\u001b[0m\u001b[0m\n\u001b[0m\u001b[1;32m   1497\u001b[0m         return (_pil_png_to_float_array(image)\n\u001b[1;32m   1498\u001b[0m                 \u001b[0;32mif\u001b[0m \u001b[0misinstance\u001b[0m\u001b[0;34m(\u001b[0m\u001b[0mimage\u001b[0m\u001b[0;34m,\u001b[0m \u001b[0mPIL\u001b[0m\u001b[0;34m.\u001b[0m\u001b[0mPngImagePlugin\u001b[0m\u001b[0;34m.\u001b[0m\u001b[0mPngImageFile\u001b[0m\u001b[0;34m)\u001b[0m \u001b[0;32melse\u001b[0m\u001b[0;34m\u001b[0m\u001b[0;34m\u001b[0m\u001b[0m\n",
      "\u001b[0;32m~/miniconda3/envs/zombiepunx/lib/python3.9/site-packages/PIL/ImageFile.py\u001b[0m in \u001b[0;36m__init__\u001b[0;34m(self, fp, filename)\u001b[0m\n\u001b[1;32m    107\u001b[0m         \u001b[0;32mif\u001b[0m \u001b[0misPath\u001b[0m\u001b[0;34m(\u001b[0m\u001b[0mfp\u001b[0m\u001b[0;34m)\u001b[0m\u001b[0;34m:\u001b[0m\u001b[0;34m\u001b[0m\u001b[0;34m\u001b[0m\u001b[0m\n\u001b[1;32m    108\u001b[0m             \u001b[0;31m# filename\u001b[0m\u001b[0;34m\u001b[0m\u001b[0;34m\u001b[0m\u001b[0;34m\u001b[0m\u001b[0m\n\u001b[0;32m--> 109\u001b[0;31m             \u001b[0mself\u001b[0m\u001b[0;34m.\u001b[0m\u001b[0mfp\u001b[0m \u001b[0;34m=\u001b[0m \u001b[0mopen\u001b[0m\u001b[0;34m(\u001b[0m\u001b[0mfp\u001b[0m\u001b[0;34m,\u001b[0m \u001b[0;34m\"rb\"\u001b[0m\u001b[0;34m)\u001b[0m\u001b[0;34m\u001b[0m\u001b[0;34m\u001b[0m\u001b[0m\n\u001b[0m\u001b[1;32m    110\u001b[0m             \u001b[0mself\u001b[0m\u001b[0;34m.\u001b[0m\u001b[0mfilename\u001b[0m \u001b[0;34m=\u001b[0m \u001b[0mfp\u001b[0m\u001b[0;34m\u001b[0m\u001b[0;34m\u001b[0m\u001b[0m\n\u001b[1;32m    111\u001b[0m             \u001b[0mself\u001b[0m\u001b[0;34m.\u001b[0m\u001b[0m_exclusive_fp\u001b[0m \u001b[0;34m=\u001b[0m \u001b[0;32mTrue\u001b[0m\u001b[0;34m\u001b[0m\u001b[0;34m\u001b[0m\u001b[0m\n",
      "\u001b[0;31mFileNotFoundError\u001b[0m: [Errno 2] No such file or directory: './data/punx/images/training/punk0000.png'"
     ]
    }
   ],
   "source": [
    "# Read Images\n",
    "img = get_punk(0)\n",
    "plt.imshow(img)"
   ]
  },
  {
   "cell_type": "markdown",
   "id": "cdc2865b-d5da-4f5a-9d27-d7a2d50daec9",
   "metadata": {},
   "source": [
    "## Prepare Training Data"
   ]
  },
  {
   "cell_type": "markdown",
   "id": "59ed2fc5-9b0f-4f6b-a110-7dcf92ce0c7c",
   "metadata": {},
   "source": [
    "The Punks are stored as 3D Numpy Arrays. The images can be compressed into a format that is more useful in machine learning by mapping pixel RGBY pixel values to an 8 bit integer that can be used in training and eventuallly converted back for display. "
   ]
  },
  {
   "cell_type": "markdown",
   "id": "98429931-6c6e-443f-a5a3-e79cb248a1f0",
   "metadata": {},
   "source": [
    "#### Step 1. Generate Pixel Map of unique values to 8 bit encoding. "
   ]
  },
  {
   "cell_type": "code",
   "execution_count": 132,
   "id": "216bc614-f585-485f-84e7-f621155a1428",
   "metadata": {},
   "outputs": [],
   "source": [
    "def flatten(img): \n",
    "  \"\"\"convert (x,y,z) array containing a pixel in z-dimension \n",
    "     to an (x,y) array with str values for each (i,j)\n",
    "     the intention is to make this easier to work with in ML\n",
    "     training.\n",
    "  \"\"\"\n",
    "  return np.array([[str(c) for c in row] \n",
    "                   for row in img])\n",
    "\n",
    "def unflatten(img):\n",
    "  \"\"\"return a flattend image to valid .png format for display\n",
    "  \"\"\"  \n",
    "  return np.array([[np.fromstring(c[1:-1], float, sep=' ') \n",
    "                    for c in row] for row in img])"
   ]
  },
  {
   "cell_type": "markdown",
   "id": "3dbdd1e6-f8a4-4d9d-a094-93caee10e70e",
   "metadata": {},
   "source": [
    "### test flatten -> unflatten"
   ]
  },
  {
   "cell_type": "code",
   "execution_count": 152,
   "id": "adb2acbf-73a9-4f6c-b591-9e86ef6dc0ff",
   "metadata": {},
   "outputs": [
    {
     "data": {
      "text/plain": [
       "<matplotlib.image.AxesImage at 0x7f93e9f26ee0>"
      ]
     },
     "execution_count": 152,
     "metadata": {},
     "output_type": "execute_result"
    },
    {
     "data": {
      "image/png": "[encoded data removed]",
      "text/plain": [
       "<Figure size 432x288 with 1 Axes>"
      ]
     },
     "metadata": {
      "needs_background": "light"
     },
     "output_type": "display_data"
    }
   ],
   "source": [
    "x = flatten(img)\n",
    "y = unflatten(x)\n",
    "plt.imshow(y)"
   ]
  },
  {
   "cell_type": "markdown",
   "id": "90f8b4fa-3b8f-4c39-b18e-8982a21755d0",
   "metadata": {},
   "source": [
    "### Step 2. Convert punk to 8 bit representation"
   ]
  },
  {
   "cell_type": "markdown",
   "id": "7409f13c-5739-4fdf-b55a-b4490cda09fb",
   "metadata": {},
   "source": [
    "#### 2.1 Find all unique values and built a translation map"
   ]
  },
  {
   "cell_type": "code",
   "execution_count": 157,
   "id": "f87400bb-9055-4c08-8915-b7998c8c5bb0",
   "metadata": {},
   "outputs": [
    {
     "data": {
      "text/plain": [
       "array(['[0. 0. 0. 0.]', '[0. 0. 0. 1.]',\n",
       "       '[0.14901961 0.19215687 0.2901961  1.        ]',\n",
       "       '[0.3372549  0.14901961 0.         1.        ]',\n",
       "       '[0.44313726 0.24705882 0.11372549 1.        ]',\n",
       "       '[0.44705883 0.21568628 0.03529412 1.        ]',\n",
       "       '[0.6509804  0.43137255 0.17254902 1.        ]',\n",
       "       '[1.         0.84705883 0.         1.        ]', '[1. 1. 1. 1.]'],\n",
       "      dtype='<U45')"
      ]
     },
     "execution_count": 157,
     "metadata": {},
     "output_type": "execute_result"
    }
   ],
   "source": [
    "np.unique(x)"
   ]
  },
  {
   "cell_type": "code",
   "execution_count": 164,
   "id": "92b9c951-c528-4acf-b8db-500b79cb0c4d",
   "metadata": {},
   "outputs": [
    {
     "data": {
      "text/plain": [
       "<matplotlib.image.AxesImage at 0x7f93e9e53820>"
      ]
     },
     "execution_count": 164,
     "metadata": {},
     "output_type": "execute_result"
    },
    {
     "data": {
      "image/png": "[encoded data removed]",
      "text/plain": [
       "<Figure size 432x288 with 1 Axes>"
      ]
     },
     "metadata": {
      "needs_background": "light"
     },
     "output_type": "display_data"
    }
   ],
   "source": [
    "p_9999 = get_punk(9999)\n",
    "plt.imshow(p_9999)"
   ]
  },
  {
   "cell_type": "code",
   "execution_count": 161,
   "id": "546de3a2-1189-4dd1-aba3-0de74d4e9f36",
   "metadata": {},
   "outputs": [
    {
     "data": {
      "text/plain": [
       "array(['[0. 0. 0. 0.]', '[0. 0. 0. 1.]',\n",
       "       '[0.2901961  0.07058824 0.00392157 1.        ]',\n",
       "       '[0.44313726 0.24705882 0.11372549 1.        ]',\n",
       "       '[0.5019608  0.85882354 0.85490197 1.        ]',\n",
       "       '[0.52156866 0.3372549  0.11764706 1.        ]',\n",
       "       '[0.54509807 0.3254902  0.17254902 1.        ]',\n",
       "       '[0.6509804  0.43137255 0.17254902 1.        ]'], dtype='<U45')"
      ]
     },
     "execution_count": 161,
     "metadata": {},
     "output_type": "execute_result"
    }
   ],
   "source": [
    "p_9999_f = flatten(p_9999)\n",
    "np.unique(p_9999_f)"
   ]
  },
  {
   "cell_type": "code",
   "execution_count": 166,
   "id": "60c2cd84-5b6f-4641-af38-ae0a44fed1c7",
   "metadata": {},
   "outputs": [
    {
     "data": {
      "text/plain": [
       "['0000',\n",
       " '0001',\n",
       " '0002',\n",
       " '0003',\n",
       " '0004',\n",
       " '0005',\n",
       " '0006',\n",
       " '0007',\n",
       " '0008',\n",
       " '0009']"
      ]
     },
     "execution_count": 166,
     "metadata": {},
     "output_type": "execute_result"
    }
   ],
   "source": [
    "[\"%04d\" % i for i in range(0,10)]"
   ]
  }
 ],
 "metadata": {
  "kernelspec": {
   "display_name": "Python 3",
   "language": "python",
   "name": "python3"
  },
  "language_info": {
   "codemirror_mode": {
    "name": "ipython",
    "version": 3
   },
   "file_extension": ".py",
   "mimetype": "text/x-python",
   "name": "python",
   "nbconvert_exporter": "python",
   "pygments_lexer": "ipython3",
   "version": "3.9.4"
  }
 },
 "nbformat": 4,
 "nbformat_minor": 5
}

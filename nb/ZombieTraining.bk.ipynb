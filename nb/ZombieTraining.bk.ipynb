{
 "cells": [
  {
   "cell_type": "code",
   "execution_count": 8,
   "id": "783de8ae-ec18-44e9-a015-086850d6913b",
   "metadata": {},
   "outputs": [],
   "source": [
    "from keras.layers import Conv2D, BatchNormalization, Input, GlobalAveragePooling2D, Dense\n",
    "from keras.models import Model, Sequential\n",
    "from keras.layers.advanced_activations import LeakyReLU\n",
    "from keras.layers import Conv2DTranspose, Reshape\n",
    "\n",
    "import pandas as pd\n",
    "import os\n",
    "from keras.optimizers import Adam\n",
    "\n",
    "import cv2\n",
    "import matplotlib.pyplot as plt\n",
    "import numpy as np\n",
    "from IPython.display import clear_output\n",
    "\n",
    "\n",
    "%matplotlib inline"
   ]
  },
  {
   "cell_type": "code",
   "execution_count": 44,
   "id": "5115ac9b",
   "metadata": {},
   "outputs": [],
   "source": [
    "from bs4 import BeautifulSoup\n",
    "import requests\n",
    "from re import sub"
   ]
  },
  {
   "cell_type": "code",
   "execution_count": 45,
   "id": "3bd6159c",
   "metadata": {},
   "outputs": [],
   "source": [
    "\n",
    "\n",
    "# function to convert string to camelCase\n",
    "def camelCase(string):\n",
    "  string = sub(r\"(_|-)+\", \" \", string).title().replace(\" \", \"\")\n",
    "  return string[0].lower() + string[1:]"
   ]
  },
  {
   "cell_type": "code",
   "execution_count": 63,
   "id": "da8a7597",
   "metadata": {},
   "outputs": [
    {
     "data": {
      "text/plain": [
       "['bandana', 'regularShades']"
      ]
     },
     "execution_count": 63,
     "metadata": {},
     "output_type": "execute_result"
    }
   ],
   "source": [
    "\n",
    "typeClass=\"col-md-10 col-md-offset-1 col-xs-12\"\n",
    "punk_html=requests.get('https://www.larvalabs.com/cryptopunks/details/635').text\n",
    "soup = BeautifulSoup(punk_html, 'html.parser')\n",
    "details = soup.find(id=\"punkDetails\")\n",
    "\n",
    "punkType = camelCase(details.find(class_=typeClass).find('a').contents[0])\n",
    "\n",
    "attrs=[]\n",
    "attrTags = details.find(class_ = \"row detail-row\")\n",
    "\n",
    "    "
   ]
  },
  {
   "cell_type": "code",
   "execution_count": 75,
   "id": "0d009021",
   "metadata": {},
   "outputs": [],
   "source": [
    "# build default attr dictionary\n",
    "d={}\n",
    "with open(f\"{__ROOT_DIR__}/data/punx/list_attr_punx.csv\") as f:\n",
    "    for attr in f.read().split(','):\n",
    "        d[attr]=-1\n",
    "        \n",
    "\n",
    "for attrTag in attrTags.find_all('a'):\n",
    "    d[camelCase(attrTag.contents[0])]=1\n",
    "d[punkType]=1 "
   ]
  },
  {
   "cell_type": "code",
   "execution_count": 73,
   "id": "141313da",
   "metadata": {},
   "outputs": [],
   "source": [
    "__ROOT_DIR__ = \"/home/david/artwork/zombiepunx\"\n",
    "IMAGE_DIR=f\"{__ROOT_DIR__}/data/celeb/img_align_celeba/\"\n",
    "df = pd.read_csv('../data/celeb/list_attr_celeba.csv')\n",
    "df['img_uri'] = IMAGE_DIR + df['image_id']"
   ]
  },
  {
   "cell_type": "markdown",
   "id": "6828ad7d",
   "metadata": {},
   "source": [
    "## load data and setup environment"
   ]
  },
  {
   "cell_type": "code",
   "execution_count": 11,
   "id": "81ae4b27",
   "metadata": {},
   "outputs": [],
   "source": [
    "__ROOT_DIR__ = \"/home/david/artwork/zombiepunx\"\n",
    "IMAGE_DIR=f\"{__ROOT_DIR__}/data/celeb/img_align_celeba/\"\n",
    "df = pd.read_csv('../data/celeb/list_attr_celeba.csv')\n",
    "df['img_uri'] = IMAGE_DIR + df['image_id']\n",
    "\n",
    "\n",
    "TOTAL_SAMPLES = df.shape[0]\n",
    "\n",
    "SPATIAL_DIM = 24\n",
    "\n",
    "# size of noise vector\n",
    "LATENT_DIM_GAN = 100 \n",
    "\n",
    "# filter size in conv layer\n",
    "FILTER_SIZE = 5\n",
    "\n",
    "# number of filters in conv layer\n",
    "NET_CAPACITY = 16\n",
    "\n",
    "# batch size\n",
    "BATCH_SIZE_GAN = 32\n",
    "\n",
    "# interval for displaying generated images\n",
    "PROGRESS_INTERVAL = 80 \n",
    "\n",
    "# directory for storing generated images\n",
    "ROOT_DIR = '../viz'\n",
    "if not os.path.isdir(ROOT_DIR):\n",
    "    os.mkdir(ROOT_DIR)\n"
   ]
  },
  {
   "cell_type": "code",
   "execution_count": 12,
   "id": "f6386ef6",
   "metadata": {},
   "outputs": [],
   "source": [
    "\n",
    "# helper function for selecting 'size' real images\n",
    "# and downscaling them to lower dimension SPATIAL_DIM\n",
    "def sample_punks(df, size):\n",
    "    samples = df.sample(frac=1).iloc[0:size]\n",
    "    X = np.empty(shape=(size, SPATIAL_DIM, SPATIAL_DIM, 3))\n",
    "    for i in range(0, size):\n",
    "        file = samples.iloc[i]\n",
    "        img_uri = file.img_uri\n",
    "        img = cv2.imread(img_uri)\n",
    "        img = np.flip(img, axis=2)\n",
    "        img = img.astype(np.float32) / 127.5 - 1.0\n",
    "        X[i] = img\n",
    "    return X"
   ]
  },
  {
   "cell_type": "markdown",
   "id": "d11cda69",
   "metadata": {},
   "source": [
    "\n",
    "# function for building the discriminator layers"
   ]
  },
  {
   "cell_type": "code",
   "execution_count": 13,
   "id": "61936f6f",
   "metadata": {},
   "outputs": [],
   "source": [
    "\n",
    "def build_discriminator(start_filters, spatial_dim, filter_size):\n",
    "    \n",
    "    # function for building a CNN block for downsampling the image\n",
    "    def add_discriminator_block(x, filters, filter_size):\n",
    "      x = Conv2D(filters, filter_size, padding='same')(x)\n",
    "      x = BatchNormalization()(x)\n",
    "      x = Conv2D(filters, filter_size, padding='same', strides=2)(x)\n",
    "      x = BatchNormalization()(x)\n",
    "      x = LeakyReLU(0.3)(x)\n",
    "      return x\n",
    "    \n",
    "    # input is an image with shape spatial_dim x spatial_dim and 1 channels\n",
    "    inp = Input(shape=(spatial_dim, spatial_dim, 1))\n",
    "\n",
    "    # design the discrimitor to downsample the image 4x\n",
    "    x = add_discriminator_block(inp, start_filters, filter_size)\n",
    "    x = add_discriminator_block(x, start_filters * 2, filter_size)\n",
    "    x = add_discriminator_block(x, start_filters * 4, filter_size)\n",
    "    x = add_discriminator_block(x, start_filters * 8, filter_size)\n",
    "    \n",
    "    # average and return a binary output\n",
    "    x = GlobalAveragePooling2D()(x)\n",
    "    x = Dense(1, activation='sigmoid')(x)\n",
    "    \n",
    "    return Model(inputs=inp, outputs=x)"
   ]
  },
  {
   "cell_type": "code",
   "execution_count": 14,
   "id": "d8293c1d",
   "metadata": {},
   "outputs": [],
   "source": [
    "\n",
    "def build_generator(start_filters, filter_size, latent_dim):\n",
    "  \n",
    "  # function for building a CNN block for upsampling the image\n",
    "  def add_generator_block(x, filters, filter_size):\n",
    "      x = Conv2DTranspose(filters, filter_size, strides=2, padding='same')(x)\n",
    "      x = BatchNormalization()(x)\n",
    "      x = LeakyReLU(0.3)(x)\n",
    "      return x\n",
    "\n",
    "  # input is a noise vector \n",
    "  inp = Input(shape=(latent_dim,))\n",
    "\n",
    "  # projection of the noise vector into a tensor with \n",
    "  # same shape as last conv layer in discriminator\n",
    "  x = Dense(4 * 4 * (start_filters * 8), input_dim=latent_dim)(inp)\n",
    "  x = BatchNormalization()(x)\n",
    "  x = Reshape(target_shape=(4, 4, start_filters * 8))(x)\n",
    "\n",
    "  # design the generator to upsample the image 4x\n",
    "  x = add_generator_block(x, start_filters * 4, filter_size)\n",
    "  x = add_generator_block(x, start_filters * 2, filter_size)\n",
    "  x = add_generator_block(x, start_filters, filter_size)\n",
    "  x = add_generator_block(x, start_filters, filter_size)    \n",
    "\n",
    "  # turn the output into a 3D tensor, an image with 1 channels \n",
    "  x = Conv2D(1, kernel_size=5, padding='same', activation='tanh')(x)\n",
    "  \n",
    "  return Model(inputs=inp, outputs=x)"
   ]
  },
  {
   "cell_type": "markdown",
   "id": "233d12ef",
   "metadata": {},
   "source": [
    "## build GAN from generator and discriminator"
   ]
  },
  {
   "cell_type": "code",
   "execution_count": 15,
   "id": "630aa4b1",
   "metadata": {},
   "outputs": [
    {
     "name": "stdout",
     "output_type": "stream",
     "text": [
      "Model: \"model_1\"\n",
      "_________________________________________________________________\n",
      "Layer (type)                 Output Shape              Param #   \n",
      "=================================================================\n",
      "input_2 (InputLayer)         [(None, 100)]             0         \n",
      "_________________________________________________________________\n",
      "dense_1 (Dense)              (None, 2048)              206848    \n",
      "_________________________________________________________________\n",
      "batch_normalization_8 (Batch (None, 2048)              8192      \n",
      "_________________________________________________________________\n",
      "reshape (Reshape)            (None, 4, 4, 128)         0         \n",
      "_________________________________________________________________\n",
      "conv2d_transpose (Conv2DTran (None, 8, 8, 64)          204864    \n",
      "_________________________________________________________________\n",
      "batch_normalization_9 (Batch (None, 8, 8, 64)          256       \n",
      "_________________________________________________________________\n",
      "leaky_re_lu_4 (LeakyReLU)    (None, 8, 8, 64)          0         \n",
      "_________________________________________________________________\n",
      "conv2d_transpose_1 (Conv2DTr (None, 16, 16, 32)        51232     \n",
      "_________________________________________________________________\n",
      "batch_normalization_10 (Batc (None, 16, 16, 32)        128       \n",
      "_________________________________________________________________\n",
      "leaky_re_lu_5 (LeakyReLU)    (None, 16, 16, 32)        0         \n",
      "_________________________________________________________________\n",
      "conv2d_transpose_2 (Conv2DTr (None, 32, 32, 16)        12816     \n",
      "_________________________________________________________________\n",
      "batch_normalization_11 (Batc (None, 32, 32, 16)        64        \n",
      "_________________________________________________________________\n",
      "leaky_re_lu_6 (LeakyReLU)    (None, 32, 32, 16)        0         \n",
      "_________________________________________________________________\n",
      "conv2d_transpose_3 (Conv2DTr (None, 64, 64, 16)        6416      \n",
      "_________________________________________________________________\n",
      "batch_normalization_12 (Batc (None, 64, 64, 16)        64        \n",
      "_________________________________________________________________\n",
      "leaky_re_lu_7 (LeakyReLU)    (None, 64, 64, 16)        0         \n",
      "_________________________________________________________________\n",
      "conv2d_8 (Conv2D)            (None, 64, 64, 3)         1203      \n",
      "=================================================================\n",
      "Total params: 492,083\n",
      "Trainable params: 487,731\n",
      "Non-trainable params: 4,352\n",
      "_________________________________________________________________\n",
      "Model: \"model\"\n",
      "_________________________________________________________________\n",
      "Layer (type)                 Output Shape              Param #   \n",
      "=================================================================\n",
      "input_1 (InputLayer)         [(None, 64, 64, 3)]       0         \n",
      "_________________________________________________________________\n",
      "conv2d (Conv2D)              (None, 64, 64, 16)        1216      \n",
      "_________________________________________________________________\n",
      "batch_normalization (BatchNo (None, 64, 64, 16)        64        \n",
      "_________________________________________________________________\n",
      "conv2d_1 (Conv2D)            (None, 32, 32, 16)        6416      \n",
      "_________________________________________________________________\n",
      "batch_normalization_1 (Batch (None, 32, 32, 16)        64        \n",
      "_________________________________________________________________\n",
      "leaky_re_lu (LeakyReLU)      (None, 32, 32, 16)        0         \n",
      "_________________________________________________________________\n",
      "conv2d_2 (Conv2D)            (None, 32, 32, 32)        12832     \n",
      "_________________________________________________________________\n",
      "batch_normalization_2 (Batch (None, 32, 32, 32)        128       \n",
      "_________________________________________________________________\n",
      "conv2d_3 (Conv2D)            (None, 16, 16, 32)        25632     \n",
      "_________________________________________________________________\n",
      "batch_normalization_3 (Batch (None, 16, 16, 32)        128       \n",
      "_________________________________________________________________\n",
      "leaky_re_lu_1 (LeakyReLU)    (None, 16, 16, 32)        0         \n",
      "_________________________________________________________________\n",
      "conv2d_4 (Conv2D)            (None, 16, 16, 64)        51264     \n",
      "_________________________________________________________________\n",
      "batch_normalization_4 (Batch (None, 16, 16, 64)        256       \n",
      "_________________________________________________________________\n",
      "conv2d_5 (Conv2D)            (None, 8, 8, 64)          102464    \n",
      "_________________________________________________________________\n",
      "batch_normalization_5 (Batch (None, 8, 8, 64)          256       \n",
      "_________________________________________________________________\n",
      "leaky_re_lu_2 (LeakyReLU)    (None, 8, 8, 64)          0         \n",
      "_________________________________________________________________\n",
      "conv2d_6 (Conv2D)            (None, 8, 8, 128)         204928    \n",
      "_________________________________________________________________\n",
      "batch_normalization_6 (Batch (None, 8, 8, 128)         512       \n",
      "_________________________________________________________________\n",
      "conv2d_7 (Conv2D)            (None, 4, 4, 128)         409728    \n",
      "_________________________________________________________________\n",
      "batch_normalization_7 (Batch (None, 4, 4, 128)         512       \n",
      "_________________________________________________________________\n",
      "leaky_re_lu_3 (LeakyReLU)    (None, 4, 4, 128)         0         \n",
      "_________________________________________________________________\n",
      "global_average_pooling2d (Gl (None, 128)               0         \n",
      "_________________________________________________________________\n",
      "dense (Dense)                (None, 1)                 129       \n",
      "=================================================================\n",
      "Total params: 816,529\n",
      "Trainable params: 0\n",
      "Non-trainable params: 816,529\n",
      "_________________________________________________________________\n",
      "Model: \"sequential\"\n",
      "_________________________________________________________________\n",
      "Layer (type)                 Output Shape              Param #   \n",
      "=================================================================\n",
      "model_1 (Functional)         (None, 64, 64, 3)         492083    \n",
      "_________________________________________________________________\n",
      "model (Functional)           (None, 1)                 816529    \n",
      "=================================================================\n",
      "Total params: 1,308,612\n",
      "Trainable params: 487,731\n",
      "Non-trainable params: 820,881\n",
      "_________________________________________________________________\n"
     ]
    }
   ],
   "source": [
    "def construct_models(verbose=False):\n",
    "    ### discriminator\n",
    "    discriminator = build_discriminator(NET_CAPACITY, SPATIAL_DIM, FILTER_SIZE)\n",
    "    # compile discriminator\n",
    "    discriminator.compile(loss='binary_crossentropy', \n",
    "                          optimizer=Adam(lr=0.0002), \n",
    "                          metrics=['mae'])\n",
    "\n",
    "    ### generator\n",
    "    # do not compile generator\n",
    "    generator = build_generator(NET_CAPACITY, FILTER_SIZE, LATENT_DIM_GAN)\n",
    "\n",
    "    ### DCGAN \n",
    "    gan = Sequential()\n",
    "    gan.add(generator)\n",
    "    gan.add(discriminator)\n",
    "    discriminator.trainable = False \n",
    "    gan.compile(loss='binary_crossentropy', \n",
    "                optimizer=Adam(lr=0.0002), \n",
    "                metrics=['mae'])\n",
    "\n",
    "    if verbose: \n",
    "        generator.summary()\n",
    "        discriminator.summary()\n",
    "        gan.summary()\n",
    "        \n",
    "    return generator, discriminator, gan\n",
    "  \n",
    "(generator_punk, \n",
    "discriminator_punk,\n",
    "gan_punk) = construct_models(verbose=True)"
   ]
  },
  {
   "cell_type": "markdown",
   "id": "b4f93ee7",
   "metadata": {},
   "source": [
    "# Training"
   ]
  },
  {
   "cell_type": "code",
   "execution_count": 16,
   "id": "07820192",
   "metadata": {},
   "outputs": [],
   "source": [
    "\n",
    "# number of discriminator updates per alternating training iteration\n",
    "DISC_UPDATES = 1  \n",
    "# number of generator updates per alternating training iteration\n",
    "GEN_UPDATES = 1 "
   ]
  },
  {
   "cell_type": "markdown",
   "id": "3440db63",
   "metadata": {},
   "source": [
    "# function for training the GAN"
   ]
  },
  {
   "cell_type": "markdown",
   "id": "0fc75cec",
   "metadata": {},
   "source": [
    "ref: https://towardsdatascience.com/generative-adversarial-network-gan-for-dummies-a-step-by-step-tutorial-fdefff170391"
   ]
  },
  {
   "cell_type": "code",
   "execution_count": 17,
   "id": "5698a406",
   "metadata": {},
   "outputs": [],
   "source": [
    "def run_training(generator, \n",
    "                 discriminator, \n",
    "                 gan, \n",
    "                 df, start_it=0, \n",
    "                 num_epochs=1000, \n",
    "                 get_real_images=sample_punks):\n",
    "  # list for storing loss\n",
    "  avg_loss_discriminator = []\n",
    "  avg_loss_generator = []\n",
    "  total_it = start_it\n",
    "\n",
    "  # main training loop\n",
    "  for epoch in range(num_epochs):\n",
    "\n",
    "      # alternating training loop\n",
    "      loss_discriminator = []\n",
    "      loss_generator = []\n",
    "      for it in range(200): \n",
    "\n",
    "          #### Discriminator training loop ####\n",
    "          for i in range(DISC_UPDATES): \n",
    "              print(i)\n",
    "              # select a random set of real images\n",
    "              imgs_real = get_real_images(df, BATCH_SIZE_GAN)\n",
    "              # generate a set of random noise vectors\n",
    "              noise = np.random.randn(BATCH_SIZE_GAN, LATENT_DIM_GAN)\n",
    "              # generate a set of fake images using the generator\n",
    "              imgs_fake = generator.predict(noise)\n",
    "              # train the discriminator on real images with label 1\n",
    "              d_loss_real = discriminator.train_on_batch(imgs_real, \n",
    "                                                         np.ones([BATCH_SIZE_GAN]))[1]\n",
    "              # train the discriminator on fake images with label 0\n",
    "              d_loss_fake = discriminator.train_on_batch(imgs_fake, \n",
    "                                                         np.zeros([BATCH_SIZE_GAN]))[1]\n",
    "\n",
    "          # display some fake images for visual control of convergence\n",
    "          if total_it % PROGRESS_INTERVAL == 0:\n",
    "              plt.figure(figsize=(5,2))\n",
    "              num_vis = min(BATCH_SIZE_GAN, 5)\n",
    "              imgs_real = get_real_images(df, num_vis)\n",
    "              noise = np.random.randn(num_vis, LATENT_DIM_GAN)\n",
    "              imgs_fake = generator.predict(noise)\n",
    "              for obj_plot in [imgs_fake, imgs_real]:\n",
    "                  plt.figure(figsize=(num_vis * 3, 3))\n",
    "                  for b in range(num_vis):\n",
    "                      disc_score = float(discriminator.predict(np.expand_dims(obj_plot[b], axis=0))[0])\n",
    "                      plt.subplot(1, num_vis, b + 1)\n",
    "                      plt.title(str(round(disc_score, 3)))\n",
    "                      plt.imshow(obj_plot[b] * 0.5 + 0.5) \n",
    "                  if obj_plot is imgs_fake:\n",
    "                      plt.savefig(os.path.join(ROOT_DIR, \n",
    "                                               str(total_it).zfill(10) + '.jpg'), \n",
    "                                  format='jpg',\n",
    "                                  bbox_inches='tight')\n",
    "                  plt.show()  \n",
    "\n",
    "          #### Generator training loop ####\n",
    "          loss = 0\n",
    "          y = np.ones([BATCH_SIZE_GAN, 1]) \n",
    "          for j in range(GEN_UPDATES):\n",
    "              # generate a set of random noise vectors\n",
    "              noise = np.random.randn(BATCH_SIZE_GAN, LATENT_DIM_GAN)\n",
    "              # train the generator on fake images with label 1\n",
    "              loss += gan.train_on_batch(noise, y)[1]\n",
    "\n",
    "          # store loss\n",
    "          loss_discriminator.append((d_loss_real + d_loss_fake) / 2.)        \n",
    "          loss_generator.append(loss / GEN_UPDATES)\n",
    "          total_it += 1\n",
    "\n",
    "      # visualize loss\n",
    "      clear_output(True)\n",
    "      print('Epoch', epoch)\n",
    "      avg_loss_discriminator.append(np.mean(loss_discriminator))\n",
    "      avg_loss_generator.append(np.mean(loss_generator))\n",
    "      plt.plot(range(len(avg_loss_discriminator)), avg_loss_discriminator)\n",
    "      plt.plot(range(len(avg_loss_generator)), avg_loss_generator)\n",
    "      plt.legend(['discriminator loss', 'generator loss'])\n",
    "      plt.show()\n",
    "\n",
    "  return generator, discriminator, gan\n"
   ]
  },
  {
   "cell_type": "code",
   "execution_count": 22,
   "id": "789d692c",
   "metadata": {},
   "outputs": [
    {
     "name": "stdout",
     "output_type": "stream",
     "text": [
      "Epoch 4\n"
     ]
    },
    {
     "data": {
      "image/png": "[encoded data removed]",
      "text/plain": [
       "<Figure size 432x288 with 1 Axes>"
      ]
     },
     "metadata": {
      "needs_background": "light"
     },
     "output_type": "display_data"
    }
   ],
   "source": [
    "\n",
    "(generator_punk,\n",
    " discriminator_punk,\n",
    " gan_punk) = run_training(generator_punk,\n",
    "                          discriminator_punk,\n",
    "                          gan_punk,\n",
    "                          num_epochs=5,\n",
    "                          df=df)                                                 "
   ]
  },
  {
   "cell_type": "code",
   "execution_count": 21,
   "id": "9b5eb48e",
   "metadata": {},
   "outputs": [
    {
     "data": {
      "text/plain": [
       "<tensorflow.python.keras.engine.functional.Functional at 0x7fe75786fa30>"
      ]
     },
     "execution_count": 21,
     "metadata": {},
     "output_type": "execute_result"
    }
   ],
   "source": [
    "generator_punk"
   ]
  }
 ],
 "metadata": {
  "kernelspec": {
   "display_name": "Python 3",
   "language": "python",
   "name": "python3"
  },
  "language_info": {
   "codemirror_mode": {
    "name": "ipython",
    "version": 3
   },
   "file_extension": ".py",
   "mimetype": "text/x-python",
   "name": "python",
   "nbconvert_exporter": "python",
   "pygments_lexer": "ipython3",
   "version": "3.8.8"
  }
 },
 "nbformat": 4,
 "nbformat_minor": 5
}
